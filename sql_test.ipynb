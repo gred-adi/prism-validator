{
 "cells": [
  {
   "cell_type": "code",
   "execution_count": 6,
   "id": "70d4ed16",
   "metadata": {},
   "outputs": [
    {
     "name": "stdout",
     "output_type": "stream",
     "text": [
      "Requirement already satisfied: streamlit in g:\\my drive\\arkanghel sof2\\codes\\prism-validator\\.venv\\lib\\site-packages (1.49.1)\n",
      "Requirement already satisfied: pandas in g:\\my drive\\arkanghel sof2\\codes\\prism-validator\\.venv\\lib\\site-packages (2.3.2)\n",
      "Requirement already satisfied: pyodbc in g:\\my drive\\arkanghel sof2\\codes\\prism-validator\\.venv\\lib\\site-packages (5.2.0)\n",
      "Requirement already satisfied: weasyprint in g:\\my drive\\arkanghel sof2\\codes\\prism-validator\\.venv\\lib\\site-packages (66.0)\n",
      "Requirement already satisfied: pillow<12,>=7.1.0 in g:\\my drive\\arkanghel sof2\\codes\\prism-validator\\.venv\\lib\\site-packages (from streamlit) (11.3.0)\n",
      "Requirement already satisfied: tenacity<10,>=8.1.0 in g:\\my drive\\arkanghel sof2\\codes\\prism-validator\\.venv\\lib\\site-packages (from streamlit) (9.1.2)\n",
      "Requirement already satisfied: cachetools<7,>=4.0 in g:\\my drive\\arkanghel sof2\\codes\\prism-validator\\.venv\\lib\\site-packages (from streamlit) (6.2.0)\n",
      "Requirement already satisfied: numpy<3,>=1.23 in g:\\my drive\\arkanghel sof2\\codes\\prism-validator\\.venv\\lib\\site-packages (from streamlit) (2.0.2)\n",
      "Requirement already satisfied: packaging<26,>=20 in g:\\my drive\\arkanghel sof2\\codes\\prism-validator\\.venv\\lib\\site-packages (from streamlit) (25.0)\n",
      "Requirement already satisfied: toml<2,>=0.10.1 in g:\\my drive\\arkanghel sof2\\codes\\prism-validator\\.venv\\lib\\site-packages (from streamlit) (0.10.2)\n",
      "Requirement already satisfied: protobuf<7,>=3.20 in g:\\my drive\\arkanghel sof2\\codes\\prism-validator\\.venv\\lib\\site-packages (from streamlit) (6.32.0)\n",
      "Requirement already satisfied: tornado!=6.5.0,<7,>=6.0.3 in g:\\my drive\\arkanghel sof2\\codes\\prism-validator\\.venv\\lib\\site-packages (from streamlit) (6.5.2)\n",
      "Requirement already satisfied: pydeck<1,>=0.8.0b4 in g:\\my drive\\arkanghel sof2\\codes\\prism-validator\\.venv\\lib\\site-packages (from streamlit) (0.9.1)\n",
      "Requirement already satisfied: click<9,>=7.0 in g:\\my drive\\arkanghel sof2\\codes\\prism-validator\\.venv\\lib\\site-packages (from streamlit) (8.1.8)\n",
      "Requirement already satisfied: typing-extensions<5,>=4.4.0 in g:\\my drive\\arkanghel sof2\\codes\\prism-validator\\.venv\\lib\\site-packages (from streamlit) (4.15.0)\n",
      "Requirement already satisfied: blinker<2,>=1.5.0 in g:\\my drive\\arkanghel sof2\\codes\\prism-validator\\.venv\\lib\\site-packages (from streamlit) (1.9.0)\n",
      "Requirement already satisfied: altair!=5.4.0,!=5.4.1,<6,>=4.0 in g:\\my drive\\arkanghel sof2\\codes\\prism-validator\\.venv\\lib\\site-packages (from streamlit) (5.5.0)\n",
      "Requirement already satisfied: watchdog<7,>=2.1.5 in g:\\my drive\\arkanghel sof2\\codes\\prism-validator\\.venv\\lib\\site-packages (from streamlit) (6.0.0)\n",
      "Requirement already satisfied: pyarrow>=7.0 in g:\\my drive\\arkanghel sof2\\codes\\prism-validator\\.venv\\lib\\site-packages (from streamlit) (21.0.0)\n",
      "Requirement already satisfied: gitpython!=3.1.19,<4,>=3.0.7 in g:\\my drive\\arkanghel sof2\\codes\\prism-validator\\.venv\\lib\\site-packages (from streamlit) (3.1.45)\n",
      "Requirement already satisfied: requests<3,>=2.27 in g:\\my drive\\arkanghel sof2\\codes\\prism-validator\\.venv\\lib\\site-packages (from streamlit) (2.32.5)\n",
      "Requirement already satisfied: pytz>=2020.1 in g:\\my drive\\arkanghel sof2\\codes\\prism-validator\\.venv\\lib\\site-packages (from pandas) (2025.2)\n",
      "Requirement already satisfied: tzdata>=2022.7 in g:\\my drive\\arkanghel sof2\\codes\\prism-validator\\.venv\\lib\\site-packages (from pandas) (2025.2)\n",
      "Requirement already satisfied: python-dateutil>=2.8.2 in g:\\my drive\\arkanghel sof2\\codes\\prism-validator\\.venv\\lib\\site-packages (from pandas) (2.9.0.post0)\n",
      "Requirement already satisfied: Pyphen>=0.9.1 in g:\\my drive\\arkanghel sof2\\codes\\prism-validator\\.venv\\lib\\site-packages (from weasyprint) (0.17.2)\n",
      "Requirement already satisfied: cffi>=0.6 in g:\\my drive\\arkanghel sof2\\codes\\prism-validator\\.venv\\lib\\site-packages (from weasyprint) (2.0.0)\n",
      "Requirement already satisfied: tinycss2>=1.4.0 in g:\\my drive\\arkanghel sof2\\codes\\prism-validator\\.venv\\lib\\site-packages (from weasyprint) (1.4.0)\n",
      "Requirement already satisfied: pydyf>=0.11.0 in g:\\my drive\\arkanghel sof2\\codes\\prism-validator\\.venv\\lib\\site-packages (from weasyprint) (0.11.0)\n",
      "Requirement already satisfied: cssselect2>=0.8.0 in g:\\my drive\\arkanghel sof2\\codes\\prism-validator\\.venv\\lib\\site-packages (from weasyprint) (0.8.0)\n",
      "Requirement already satisfied: tinyhtml5>=2.0.0b1 in g:\\my drive\\arkanghel sof2\\codes\\prism-validator\\.venv\\lib\\site-packages (from weasyprint) (2.0.0)\n",
      "Requirement already satisfied: fonttools[woff]>=4.0.0 in g:\\my drive\\arkanghel sof2\\codes\\prism-validator\\.venv\\lib\\site-packages (from weasyprint) (4.59.2)\n",
      "Requirement already satisfied: jinja2 in g:\\my drive\\arkanghel sof2\\codes\\prism-validator\\.venv\\lib\\site-packages (from altair!=5.4.0,!=5.4.1,<6,>=4.0->streamlit) (3.1.6)\n",
      "Requirement already satisfied: jsonschema>=3.0 in g:\\my drive\\arkanghel sof2\\codes\\prism-validator\\.venv\\lib\\site-packages (from altair!=5.4.0,!=5.4.1,<6,>=4.0->streamlit) (4.25.1)\n",
      "Requirement already satisfied: narwhals>=1.14.2 in g:\\my drive\\arkanghel sof2\\codes\\prism-validator\\.venv\\lib\\site-packages (from altair!=5.4.0,!=5.4.1,<6,>=4.0->streamlit) (2.4.0)\n",
      "Requirement already satisfied: pycparser in g:\\my drive\\arkanghel sof2\\codes\\prism-validator\\.venv\\lib\\site-packages (from cffi>=0.6->weasyprint) (2.23)\n",
      "Requirement already satisfied: colorama in g:\\my drive\\arkanghel sof2\\codes\\prism-validator\\.venv\\lib\\site-packages (from click<9,>=7.0->streamlit) (0.4.6)\n",
      "Requirement already satisfied: webencodings in g:\\my drive\\arkanghel sof2\\codes\\prism-validator\\.venv\\lib\\site-packages (from cssselect2>=0.8.0->weasyprint) (0.5.1)\n",
      "Requirement already satisfied: zopfli>=0.1.4 in g:\\my drive\\arkanghel sof2\\codes\\prism-validator\\.venv\\lib\\site-packages (from fonttools[woff]>=4.0.0->weasyprint) (0.2.3.post1)\n",
      "Requirement already satisfied: brotli>=1.0.1 in g:\\my drive\\arkanghel sof2\\codes\\prism-validator\\.venv\\lib\\site-packages (from fonttools[woff]>=4.0.0->weasyprint) (1.1.0)\n",
      "Requirement already satisfied: gitdb<5,>=4.0.1 in g:\\my drive\\arkanghel sof2\\codes\\prism-validator\\.venv\\lib\\site-packages (from gitpython!=3.1.19,<4,>=3.0.7->streamlit) (4.0.12)\n",
      "Requirement already satisfied: six>=1.5 in g:\\my drive\\arkanghel sof2\\codes\\prism-validator\\.venv\\lib\\site-packages (from python-dateutil>=2.8.2->pandas) (1.17.0)\n",
      "Requirement already satisfied: idna<4,>=2.5 in g:\\my drive\\arkanghel sof2\\codes\\prism-validator\\.venv\\lib\\site-packages (from requests<3,>=2.27->streamlit) (3.10)\n",
      "Requirement already satisfied: charset_normalizer<4,>=2 in g:\\my drive\\arkanghel sof2\\codes\\prism-validator\\.venv\\lib\\site-packages (from requests<3,>=2.27->streamlit) (3.4.3)\n",
      "Requirement already satisfied: certifi>=2017.4.17 in g:\\my drive\\arkanghel sof2\\codes\\prism-validator\\.venv\\lib\\site-packages (from requests<3,>=2.27->streamlit) (2025.8.3)\n",
      "Requirement already satisfied: urllib3<3,>=1.21.1 in g:\\my drive\\arkanghel sof2\\codes\\prism-validator\\.venv\\lib\\site-packages (from requests<3,>=2.27->streamlit) (2.5.0)\n",
      "Requirement already satisfied: smmap<6,>=3.0.1 in g:\\my drive\\arkanghel sof2\\codes\\prism-validator\\.venv\\lib\\site-packages (from gitdb<5,>=4.0.1->gitpython!=3.1.19,<4,>=3.0.7->streamlit) (5.0.2)\n",
      "Requirement already satisfied: MarkupSafe>=2.0 in g:\\my drive\\arkanghel sof2\\codes\\prism-validator\\.venv\\lib\\site-packages (from jinja2->altair!=5.4.0,!=5.4.1,<6,>=4.0->streamlit) (3.0.2)\n",
      "Requirement already satisfied: jsonschema-specifications>=2023.03.6 in g:\\my drive\\arkanghel sof2\\codes\\prism-validator\\.venv\\lib\\site-packages (from jsonschema>=3.0->altair!=5.4.0,!=5.4.1,<6,>=4.0->streamlit) (2025.9.1)\n",
      "Requirement already satisfied: attrs>=22.2.0 in g:\\my drive\\arkanghel sof2\\codes\\prism-validator\\.venv\\lib\\site-packages (from jsonschema>=3.0->altair!=5.4.0,!=5.4.1,<6,>=4.0->streamlit) (25.3.0)\n",
      "Requirement already satisfied: rpds-py>=0.7.1 in g:\\my drive\\arkanghel sof2\\codes\\prism-validator\\.venv\\lib\\site-packages (from jsonschema>=3.0->altair!=5.4.0,!=5.4.1,<6,>=4.0->streamlit) (0.27.1)\n",
      "Requirement already satisfied: referencing>=0.28.4 in g:\\my drive\\arkanghel sof2\\codes\\prism-validator\\.venv\\lib\\site-packages (from jsonschema>=3.0->altair!=5.4.0,!=5.4.1,<6,>=4.0->streamlit) (0.36.2)\n",
      "Note: you may need to restart the kernel to use updated packages.\n"
     ]
    }
   ],
   "source": [
    "pip install streamlit pandas pyodbc weasyprint"
   ]
  },
  {
   "cell_type": "code",
   "execution_count": 12,
   "id": "5413aa28",
   "metadata": {},
   "outputs": [
    {
     "name": "stdout",
     "output_type": "stream",
     "text": [
      "Collecting reportlab\n",
      "  Downloading reportlab-4.4.3-py3-none-any.whl (2.0 MB)\n",
      "     ---------------------------------------- 2.0/2.0 MB 11.4 MB/s eta 0:00:00\n",
      "Requirement already satisfied: pillow>=9.0.0 in g:\\my drive\\arkanghel sof2\\codes\\prism-validator\\.venv\\lib\\site-packages (from reportlab) (11.3.0)\n",
      "Requirement already satisfied: charset-normalizer in g:\\my drive\\arkanghel sof2\\codes\\prism-validator\\.venv\\lib\\site-packages (from reportlab) (3.4.3)\n",
      "Installing collected packages: reportlab\n",
      "Successfully installed reportlab-4.4.3\n",
      "Note: you may need to restart the kernel to use updated packages.\n"
     ]
    }
   ],
   "source": [
    "pip install reportlab"
   ]
  },
  {
   "cell_type": "code",
   "execution_count": 13,
   "id": "963ab449",
   "metadata": {},
   "outputs": [
    {
     "name": "stdout",
     "output_type": "stream",
     "text": [
      "Collecting openpyxl\n",
      "  Downloading openpyxl-3.1.5-py2.py3-none-any.whl (250 kB)\n",
      "     -------------------------------------- 250.9/250.9 KB 2.2 MB/s eta 0:00:00\n",
      "Collecting et-xmlfile\n",
      "  Downloading et_xmlfile-2.0.0-py3-none-any.whl (18 kB)\n",
      "Installing collected packages: et-xmlfile, openpyxl\n",
      "Successfully installed et-xmlfile-2.0.0 openpyxl-3.1.5\n",
      "Note: you may need to restart the kernel to use updated packages.\n"
     ]
    }
   ],
   "source": [
    "pip install openpyxl"
   ]
  },
  {
   "cell_type": "code",
   "execution_count": 11,
   "id": "507be39d",
   "metadata": {},
   "outputs": [
    {
     "name": "stdout",
     "output_type": "stream",
     "text": [
      "✅ Connection successful!\n"
     ]
    },
    {
     "name": "stderr",
     "output_type": "stream",
     "text": [
      "C:\\Users\\Gredoble\\AppData\\Local\\Temp\\ipykernel_10268\\3900997090.py:14: UserWarning: pandas only supports SQLAlchemy connectable (engine/connection) or database string URI or sqlite3 DBAPI2 connection. Other DBAPI2 objects are not tested. Please consider using SQLAlchemy.\n",
      "  df = pd.read_sql(sql_query, conn)\n"
     ]
    },
    {
     "name": "stdout",
     "output_type": "stream",
     "text": [
      "Data from database:\n",
      "  ASSET FORM TYPE DEPLOYED                     FORM NAME PARENT TEMPLATE NAME  \\\n",
      "0  None  TEMPLATE        N  AP-TSI-CYCLONE PROCESS (R.0)                 None   \n",
      "1  None  TEMPLATE        N  AP-TSI-CYCLONE PROCESS (R.0)                 None   \n",
      "2  None  TEMPLATE        N  AP-TSI-CYCLONE PROCESS (R.0)                 None   \n",
      "3  None  TEMPLATE        N  AP-TSI-CYCLONE PROCESS (R.0)                 None   \n",
      "4  None  TEMPLATE        N  AP-TSI-CYCLONE PROCESS (R.0)                 None   \n",
      "\n",
      "   INTERVAL TIME (SEC) POINT TYPE CONSTRAINED POINT  \\\n",
      "0                   60     ANALOG                 N   \n",
      "1                   60     ANALOG                 N   \n",
      "2                   60     ANALOG                 N   \n",
      "3                   60     ANALOG                 N   \n",
      "4                   60     ANALOG                 N   \n",
      "\n",
      "                            METRIC NAME     FUNCTION  ...  \\\n",
      "0   AP-TSI-CYCLONE GAS INLET TEMP 1 (B)  NON-MODELED  ...   \n",
      "1   AP-TSI-CYCLONE GAS INLET TEMP 1 (B)  NON-MODELED  ...   \n",
      "2   AP-TSI-CYCLONE GAS INLET TEMP 2 (A)  NON-MODELED  ...   \n",
      "3  AP-TSI-CYCLONE GAS OUTLET TEMP 2 (B)  NON-MODELED  ...   \n",
      "4  AP-TSI-CYCLONE GAS OUTLET TEMP 2 (B)  NON-MODELED  ...   \n",
      "\n",
      "  THRESHOLD TIME WINDOW SECONDS THRESHOLD WINDOW POINT DECLARATION   EQN  \\\n",
      "0                          None             None              None  None   \n",
      "1                          None             None              None  None   \n",
      "2                          None             None              None  None   \n",
      "3                          None             None              None  None   \n",
      "4                          None             None              None  None   \n",
      "\n",
      "  FILTER FORM ID PARENT ID METRIC ID POINT ID REMARK  \n",
      "0   None      14      None      1550    54934   None  \n",
      "1   None      14      None      1550    54971   None  \n",
      "2   None      14      None      1552      738   None  \n",
      "3   None      14      None      1564    54942   None  \n",
      "4   None      14      None      1564      794   None  \n",
      "\n",
      "[5 rows x 39 columns]\n",
      "🔗 Connection closed.\n"
     ]
    }
   ],
   "source": [
    "import pandas as pd\n",
    "import pyodbc\n",
    "\n",
    "# Add Encrypt=yes and TrustServerCertificate=yes to the connection string\n",
    "conn_str = \"DRIVER={ODBC Driver 18 for SQL Server};SERVER=10.145.67.72,1433;DATABASE=prismdb;UID=gredoble;PWD=sadfs%&ag!@$%@#123;Encrypt=yes;TrustServerCertificate=yes\"\n",
    "\n",
    "try:\n",
    "    # Establish the connection\n",
    "    conn = pyodbc.connect(conn_str, timeout=5)\n",
    "    print(\"✅ Connection successful!\")\n",
    "\n",
    "    # Your database logic here...\n",
    "    sql_query = \"SELECT TOP 5 * FROM prismdb.dbo.SINE_TDT_REV\"\n",
    "    df = pd.read_sql(sql_query, conn)\n",
    "    print(\"Data from database:\")\n",
    "    print(df.head())\n",
    "\n",
    "except pyodbc.Error as ex:\n",
    "    sqlstate = ex.args[0]\n",
    "    print(f\"❌ Connection failed. Error: {sqlstate}\")\n",
    "    print(ex)\n",
    "\n",
    "finally:\n",
    "    if 'conn' in locals() and conn:\n",
    "        conn.close()\n",
    "        print(\"🔗 Connection closed.\")"
   ]
  }
 ],
 "metadata": {
  "kernelspec": {
   "display_name": ".venv",
   "language": "python",
   "name": "python3"
  },
  "language_info": {
   "codemirror_mode": {
    "name": "ipython",
    "version": 3
   },
   "file_extension": ".py",
   "mimetype": "text/x-python",
   "name": "python",
   "nbconvert_exporter": "python",
   "pygments_lexer": "ipython3",
   "version": "3.9.16"
  }
 },
 "nbformat": 4,
 "nbformat_minor": 5
}
